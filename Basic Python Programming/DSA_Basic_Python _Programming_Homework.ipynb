{
 "cells": [
  {
   "cell_type": "markdown",
   "metadata": {},
   "source": [
    "# Basic Python Programming: Homework\n",
    "\n",
    "<br> Name&emsp;&emsp;&emsp;: Andi Buwono \n",
    "<br> NIK&emsp;&emsp;&emsp;&emsp;: 83051\n",
    "<br> Data Source : [Google Play Store Data](https://github.com/andibuwono/DSA/blob/master/Basic%20Python%20Programming/data/googleplaystore.zip?raw=true)\n",
    "&nbsp;\n",
    "[Original](https://www.kaggle.com/lava18/google-play-store-apps#googleplaystore.csv)\n"
   ]
  },
  {
   "cell_type": "code",
   "execution_count": 1,
   "metadata": {},
   "outputs": [
    {
     "data": {
      "text/markdown": [
       "<br>Sample data used in this analysis : <br>"
      ],
      "text/plain": [
       "<IPython.core.display.Markdown object>"
      ]
     },
     "metadata": {},
     "output_type": "display_data"
    },
    {
     "data": {
      "text/html": [
       "<div>\n",
       "<style scoped>\n",
       "    .dataframe tbody tr th:only-of-type {\n",
       "        vertical-align: middle;\n",
       "    }\n",
       "\n",
       "    .dataframe tbody tr th {\n",
       "        vertical-align: top;\n",
       "    }\n",
       "\n",
       "    .dataframe thead th {\n",
       "        text-align: right;\n",
       "    }\n",
       "</style>\n",
       "<table border=\"1\" class=\"dataframe\">\n",
       "  <thead>\n",
       "    <tr style=\"text-align: right;\">\n",
       "      <th></th>\n",
       "      <th>App</th>\n",
       "      <th>Category</th>\n",
       "      <th>Rating</th>\n",
       "      <th>Reviews</th>\n",
       "      <th>Size</th>\n",
       "      <th>Installs</th>\n",
       "      <th>Type</th>\n",
       "      <th>Price</th>\n",
       "      <th>Content Rating</th>\n",
       "      <th>Genres</th>\n",
       "      <th>Last Updated</th>\n",
       "      <th>Current Ver</th>\n",
       "      <th>Android Ver</th>\n",
       "    </tr>\n",
       "  </thead>\n",
       "  <tbody>\n",
       "    <tr>\n",
       "      <td>0</td>\n",
       "      <td>Photo Editor &amp; Candy Camera &amp; Grid &amp; ScrapBook</td>\n",
       "      <td>ART_AND_DESIGN</td>\n",
       "      <td>4.1</td>\n",
       "      <td>159</td>\n",
       "      <td>19M</td>\n",
       "      <td>10,000+</td>\n",
       "      <td>Free</td>\n",
       "      <td>0</td>\n",
       "      <td>Everyone</td>\n",
       "      <td>Art &amp; Design</td>\n",
       "      <td>January 7, 2018</td>\n",
       "      <td>1.0.0</td>\n",
       "      <td>4.0.3 and up</td>\n",
       "    </tr>\n",
       "    <tr>\n",
       "      <td>1</td>\n",
       "      <td>Coloring book moana</td>\n",
       "      <td>ART_AND_DESIGN</td>\n",
       "      <td>3.9</td>\n",
       "      <td>967</td>\n",
       "      <td>14M</td>\n",
       "      <td>500,000+</td>\n",
       "      <td>Free</td>\n",
       "      <td>0</td>\n",
       "      <td>Everyone</td>\n",
       "      <td>Art &amp; Design;Pretend Play</td>\n",
       "      <td>January 15, 2018</td>\n",
       "      <td>2.0.0</td>\n",
       "      <td>4.0.3 and up</td>\n",
       "    </tr>\n",
       "    <tr>\n",
       "      <td>2</td>\n",
       "      <td>U Launcher Lite – FREE Live Cool Themes, Hide ...</td>\n",
       "      <td>ART_AND_DESIGN</td>\n",
       "      <td>4.7</td>\n",
       "      <td>87510</td>\n",
       "      <td>8.7M</td>\n",
       "      <td>5,000,000+</td>\n",
       "      <td>Free</td>\n",
       "      <td>0</td>\n",
       "      <td>Everyone</td>\n",
       "      <td>Art &amp; Design</td>\n",
       "      <td>August 1, 2018</td>\n",
       "      <td>1.2.4</td>\n",
       "      <td>4.0.3 and up</td>\n",
       "    </tr>\n",
       "    <tr>\n",
       "      <td>3</td>\n",
       "      <td>Sketch - Draw &amp; Paint</td>\n",
       "      <td>ART_AND_DESIGN</td>\n",
       "      <td>4.5</td>\n",
       "      <td>215644</td>\n",
       "      <td>25M</td>\n",
       "      <td>50,000,000+</td>\n",
       "      <td>Free</td>\n",
       "      <td>0</td>\n",
       "      <td>Teen</td>\n",
       "      <td>Art &amp; Design</td>\n",
       "      <td>June 8, 2018</td>\n",
       "      <td>Varies with device</td>\n",
       "      <td>4.2 and up</td>\n",
       "    </tr>\n",
       "    <tr>\n",
       "      <td>4</td>\n",
       "      <td>Pixel Draw - Number Art Coloring Book</td>\n",
       "      <td>ART_AND_DESIGN</td>\n",
       "      <td>4.3</td>\n",
       "      <td>967</td>\n",
       "      <td>2.8M</td>\n",
       "      <td>100,000+</td>\n",
       "      <td>Free</td>\n",
       "      <td>0</td>\n",
       "      <td>Everyone</td>\n",
       "      <td>Art &amp; Design;Creativity</td>\n",
       "      <td>June 20, 2018</td>\n",
       "      <td>1.1</td>\n",
       "      <td>4.4 and up</td>\n",
       "    </tr>\n",
       "  </tbody>\n",
       "</table>\n",
       "</div>"
      ],
      "text/plain": [
       "                                                 App        Category  Rating  \\\n",
       "0     Photo Editor & Candy Camera & Grid & ScrapBook  ART_AND_DESIGN     4.1   \n",
       "1                                Coloring book moana  ART_AND_DESIGN     3.9   \n",
       "2  U Launcher Lite – FREE Live Cool Themes, Hide ...  ART_AND_DESIGN     4.7   \n",
       "3                              Sketch - Draw & Paint  ART_AND_DESIGN     4.5   \n",
       "4              Pixel Draw - Number Art Coloring Book  ART_AND_DESIGN     4.3   \n",
       "\n",
       "  Reviews  Size     Installs  Type Price Content Rating  \\\n",
       "0     159   19M      10,000+  Free     0       Everyone   \n",
       "1     967   14M     500,000+  Free     0       Everyone   \n",
       "2   87510  8.7M   5,000,000+  Free     0       Everyone   \n",
       "3  215644   25M  50,000,000+  Free     0           Teen   \n",
       "4     967  2.8M     100,000+  Free     0       Everyone   \n",
       "\n",
       "                      Genres      Last Updated         Current Ver  \\\n",
       "0               Art & Design   January 7, 2018               1.0.0   \n",
       "1  Art & Design;Pretend Play  January 15, 2018               2.0.0   \n",
       "2               Art & Design    August 1, 2018               1.2.4   \n",
       "3               Art & Design      June 8, 2018  Varies with device   \n",
       "4    Art & Design;Creativity     June 20, 2018                 1.1   \n",
       "\n",
       "    Android Ver  \n",
       "0  4.0.3 and up  \n",
       "1  4.0.3 and up  \n",
       "2  4.0.3 and up  \n",
       "3    4.2 and up  \n",
       "4    4.4 and up  "
      ]
     },
     "execution_count": 1,
     "metadata": {},
     "output_type": "execute_result"
    }
   ],
   "source": [
    "# notebook settings\n",
    "from IPython.display import display, Markdown\n",
    "\n",
    "# import libraries\n",
    "import numpy as np\n",
    "import pandas as pd\n",
    "\n",
    "# download and read data \n",
    "# data is store in github because kaggle requires user login to download data\n",
    "google_play_apps = pd.read_csv(\"https://github.com/andibuwono/DSA/blob/master/Basic%20Python%20Programming/data/googleplaystore.zip?raw=true\", \n",
    "                                     compression='zip')\n",
    "\n",
    "display(Markdown(\"<br>Sample data used in this analysis : <br>\"))\n",
    "google_play_apps.head()"
   ]
  },
  {
   "cell_type": "markdown",
   "metadata": {},
   "source": [
    "<br> "
   ]
  },
  {
   "cell_type": "markdown",
   "metadata": {},
   "source": [
    "### Q1 : What size is the Google Play Store data set?"
   ]
  },
  {
   "cell_type": "code",
   "execution_count": 2,
   "metadata": {},
   "outputs": [
    {
     "data": {
      "text/markdown": [
       "In the dataset of googleplaystore.csv, it consists of `10841` rows and `13` columns"
      ],
      "text/plain": [
       "<IPython.core.display.Markdown object>"
      ]
     },
     "metadata": {},
     "output_type": "display_data"
    }
   ],
   "source": [
    "# retrieve dataframe shape\n",
    "dataset_shape = google_play_apps.shape\n",
    "\n",
    "# print result\n",
    "display(Markdown(\"In the dataset of googleplaystore.csv, it consists of `%d` rows and `%d` columns\" % dataset_shape));"
   ]
  },
  {
   "cell_type": "markdown",
   "metadata": {},
   "source": [
    "### Q2 : How many unique apps categories reflected in the dataset? "
   ]
  },
  {
   "cell_type": "code",
   "execution_count": 3,
   "metadata": {},
   "outputs": [
    {
     "data": {
      "text/markdown": [
       "In the dataset of googleplaystore.csv, it consists of `34` unique apps categories."
      ],
      "text/plain": [
       "<IPython.core.display.Markdown object>"
      ]
     },
     "metadata": {},
     "output_type": "display_data"
    },
    {
     "data": {
      "text/markdown": [
       "Which are `ART_AND_DESIGN`, `AUTO_AND_VEHICLES`, `BEAUTY`, `BOOKS_AND_REFERENCE`, `BUSINESS`, `COMICS`, `COMMUNICATION`, `DATING`, `EDUCATION`, `ENTERTAINMENT`, `EVENTS`, `FINANCE`, `FOOD_AND_DRINK`, `HEALTH_AND_FITNESS`, `HOUSE_AND_HOME`, `LIBRARIES_AND_DEMO`, `LIFESTYLE`, `GAME`, `FAMILY`, `MEDICAL`, `SOCIAL`, `SHOPPING`, `PHOTOGRAPHY`, `SPORTS`, `TRAVEL_AND_LOCAL`, `TOOLS`, `PERSONALIZATION`, `PRODUCTIVITY`, `PARENTING`, `WEATHER`, `VIDEO_PLAYERS`, `NEWS_AND_MAGAZINES`, `MAPS_AND_NAVIGATION`, `1.9`"
      ],
      "text/plain": [
       "<IPython.core.display.Markdown object>"
      ]
     },
     "metadata": {},
     "output_type": "display_data"
    },
    {
     "data": {
      "text/markdown": [
       "But `1.9` is not resemble any category and only 1 apps (`Life Made WI-Fi Touchscreen Photo Frame`) has it. Which looks like there is an error in the particular dataset"
      ],
      "text/plain": [
       "<IPython.core.display.Markdown object>"
      ]
     },
     "metadata": {},
     "output_type": "display_data"
    },
    {
     "data": {
      "text/markdown": [
       "Thus there are `33` unique apps categories."
      ],
      "text/plain": [
       "<IPython.core.display.Markdown object>"
      ]
     },
     "metadata": {},
     "output_type": "display_data"
    }
   ],
   "source": [
    "# get unique Category column and its number\n",
    "unique_category = google_play_apps[\"Category\"].unique()\n",
    "unique_category_number = google_play_apps[\"Category\"].nunique()\n",
    "\n",
    "# print result\n",
    "display(Markdown(\"In the dataset of googleplaystore.csv, it consists of `%d` unique apps categories.\" % unique_category_number));\n",
    "display(Markdown(\"Which are `\" + \"`, `\".join(unique_category) + \"`\"));\n",
    "display(Markdown(\"But `1.9` is not resemble any category and only 1 apps (`Life Made WI-Fi Touchscreen Photo Frame`) has it. Which looks like there is an error in the particular dataset\"));\n",
    "display(Markdown(\"Thus there are `%d` unique apps categories.\" % (unique_category_number - 1)));\n"
   ]
  },
  {
   "cell_type": "markdown",
   "metadata": {},
   "source": [
    "### Q3 : How many unique genres according to the dataset?"
   ]
  },
  {
   "cell_type": "code",
   "execution_count": 4,
   "metadata": {},
   "outputs": [
    {
     "data": {
      "text/markdown": [
       "In the dataset of googleplaystore.csv, as is, it consists of `120` unique apps genres string."
      ],
      "text/plain": [
       "<IPython.core.display.Markdown object>"
      ]
     },
     "metadata": {},
     "output_type": "display_data"
    },
    {
     "data": {
      "text/markdown": [
       "Because apps can have multiple genres (separated by `;` in `Genres` column), and if we split it by `;`, it will consists only `54` unique apps genres."
      ],
      "text/plain": [
       "<IPython.core.display.Markdown object>"
      ]
     },
     "metadata": {},
     "output_type": "display_data"
    },
    {
     "data": {
      "text/markdown": [
       "Which are `Action`, `Action & Adventure`, `Adventure`, `Arcade`, `Art & Design`, `Auto & Vehicles`, `Beauty`, `Board`, `Books & Reference`, `Brain Games`, `Business`, `Card`, `Casino`, `Casual`, `Comics`, `Communication`, `Creativity`, `Dating`, `Education`, `Educational`, `Entertainment`, `Events`, `February 11, 2018`, `Finance`, `Food & Drink`, `Health & Fitness`, `House & Home`, `Libraries & Demo`, `Lifestyle`, `Maps & Navigation`, `Medical`, `Music`, `Music & Audio`, `Music & Video`, `News & Magazines`, `Parenting`, `Personalization`, `Photography`, `Pretend Play`, `Productivity`, `Puzzle`, `Racing`, `Role Playing`, `Shopping`, `Simulation`, `Social`, `Sports`, `Strategy`, `Tools`, `Travel & Local`, `Trivia`, `Video Players & Editors`, `Weather`, `Word`"
      ],
      "text/plain": [
       "<IPython.core.display.Markdown object>"
      ]
     },
     "metadata": {},
     "output_type": "display_data"
    },
    {
     "data": {
      "text/markdown": [
       "As in Q2 answer,  `February 11, 2018` is not resemble any category and only 1 apps (`Life Made WI-Fi Touchscreen Photo Frame`) has it. Which looks like there is an error in the particular dataset"
      ],
      "text/plain": [
       "<IPython.core.display.Markdown object>"
      ]
     },
     "metadata": {},
     "output_type": "display_data"
    },
    {
     "data": {
      "text/markdown": [
       "Thus there are `53` unique apps categories."
      ],
      "text/plain": [
       "<IPython.core.display.Markdown object>"
      ]
     },
     "metadata": {},
     "output_type": "display_data"
    }
   ],
   "source": [
    "# As we can see in the sample data above app can have multiple genre and each of them is separated by semicolon\n",
    "# we collect both the original unique and the split by ';')\n",
    "unique_genre_original = google_play_apps[\"Genres\"].unique()\n",
    "unique_genre_original_number = google_play_apps[\"Genres\"].nunique()\n",
    "\n",
    "# split unige genre by ';'\n",
    "unique_genre_splitted = np.unique(';'.join(unique_genre_original).split(\";\"))\n",
    "unique_genre_splitted_number = len(unique_genre_splitted)\n",
    "\n",
    "# print result\n",
    "display(Markdown(\"In the dataset of googleplaystore.csv, as is, it consists of `%d` unique apps genres string.\" % unique_genre_original_number));\n",
    "#display(Markdown(\"Which are `\" + \"`, `\".join(unique_genre_original) + \"`\"));\n",
    "display(Markdown(\"Because apps can have multiple genres (separated by `;` in `Genres` column), and if we split it by `;`, it will consists only `%d` unique apps genres.\" % unique_genre_splitted_number));\n",
    "display(Markdown(\"Which are `\" + \"`, `\".join(unique_genre_splitted) + \"`\"));\n",
    "display(Markdown(\"As in Q2 answer,  `February 11, 2018` is not resemble any category and only 1 apps (`Life Made WI-Fi Touchscreen Photo Frame`) has it. Which looks like there is an error in the particular dataset\"));\n",
    "display(Markdown(\"Thus there are `%d` unique apps categories.\" % (unique_genre_splitted_number - 1)));\n",
    "\n"
   ]
  },
  {
   "cell_type": "markdown",
   "metadata": {},
   "source": [
    "### Q4 : Which code is appropriate to drop duplicate values in `App` column and remove its rows in Python?  Assume dataset was loaded as a pandas data frame variable: `google_play_apps`."
   ]
  },
  {
   "cell_type": "code",
   "execution_count": 5,
   "metadata": {},
   "outputs": [],
   "source": [
    "# drop duplicates app in original dataframe\n",
    "google_play_apps.drop_duplicates(subset='App', inplace=True)\n"
   ]
  },
  {
   "cell_type": "markdown",
   "metadata": {},
   "source": [
    "### Q5 : Cleaning `Installs` columns in `google_play_app`"
   ]
  },
  {
   "cell_type": "markdown",
   "metadata": {},
   "source": [
    "Upon removing duplicate of `App` column, please run the following code to remove a row that contain `Free` value at the `Installs` column. You can check first with this code: "
   ]
  },
  {
   "cell_type": "code",
   "execution_count": 6,
   "metadata": {},
   "outputs": [
    {
     "data": {
      "text/html": [
       "<div>\n",
       "<style scoped>\n",
       "    .dataframe tbody tr th:only-of-type {\n",
       "        vertical-align: middle;\n",
       "    }\n",
       "\n",
       "    .dataframe tbody tr th {\n",
       "        vertical-align: top;\n",
       "    }\n",
       "\n",
       "    .dataframe thead th {\n",
       "        text-align: right;\n",
       "    }\n",
       "</style>\n",
       "<table border=\"1\" class=\"dataframe\">\n",
       "  <thead>\n",
       "    <tr style=\"text-align: right;\">\n",
       "      <th></th>\n",
       "      <th>App</th>\n",
       "      <th>Category</th>\n",
       "      <th>Rating</th>\n",
       "      <th>Reviews</th>\n",
       "      <th>Size</th>\n",
       "      <th>Installs</th>\n",
       "      <th>Type</th>\n",
       "      <th>Price</th>\n",
       "      <th>Content Rating</th>\n",
       "      <th>Genres</th>\n",
       "      <th>Last Updated</th>\n",
       "      <th>Current Ver</th>\n",
       "      <th>Android Ver</th>\n",
       "    </tr>\n",
       "  </thead>\n",
       "  <tbody>\n",
       "    <tr>\n",
       "      <td>10472</td>\n",
       "      <td>Life Made WI-Fi Touchscreen Photo Frame</td>\n",
       "      <td>1.9</td>\n",
       "      <td>19.0</td>\n",
       "      <td>3.0M</td>\n",
       "      <td>1,000+</td>\n",
       "      <td>Free</td>\n",
       "      <td>0</td>\n",
       "      <td>Everyone</td>\n",
       "      <td>NaN</td>\n",
       "      <td>February 11, 2018</td>\n",
       "      <td>1.0.19</td>\n",
       "      <td>4.0 and up</td>\n",
       "      <td>NaN</td>\n",
       "    </tr>\n",
       "  </tbody>\n",
       "</table>\n",
       "</div>"
      ],
      "text/plain": [
       "                                           App Category  Rating Reviews  \\\n",
       "10472  Life Made WI-Fi Touchscreen Photo Frame      1.9    19.0    3.0M   \n",
       "\n",
       "         Size Installs Type     Price Content Rating             Genres  \\\n",
       "10472  1,000+     Free    0  Everyone            NaN  February 11, 2018   \n",
       "\n",
       "      Last Updated Current Ver Android Ver  \n",
       "10472       1.0.19  4.0 and up         NaN  "
      ]
     },
     "execution_count": 6,
     "metadata": {},
     "output_type": "execute_result"
    }
   ],
   "source": [
    "google_play_apps[google_play_apps['Installs']=='Free']"
   ]
  },
  {
   "cell_type": "markdown",
   "metadata": {},
   "source": [
    "To remove that specific row: "
   ]
  },
  {
   "cell_type": "code",
   "execution_count": 7,
   "metadata": {},
   "outputs": [],
   "source": [
    "google_play_apps = google_play_apps[google_play_apps['Installs'] != 'Free']"
   ]
  },
  {
   "cell_type": "markdown",
   "metadata": {},
   "source": [
    "If you want to remove character `+` in column `Installs`, you can run the following codes in Python."
   ]
  },
  {
   "cell_type": "code",
   "execution_count": 8,
   "metadata": {},
   "outputs": [],
   "source": [
    "google_play_apps['Installs'] = google_play_apps['Installs'].apply(lambda x: x.replace('+', '') if '+' in str(x) else x)"
   ]
  },
  {
   "cell_type": "markdown",
   "metadata": {},
   "source": [
    "Then, if you want to remove character `,` in column `Installs`, you can run the following codes in Python."
   ]
  },
  {
   "cell_type": "code",
   "execution_count": 9,
   "metadata": {},
   "outputs": [],
   "source": [
    "google_play_apps['Installs'] = google_play_apps['Installs'].apply(lambda x: x.replace(',', '') if ',' in str(x) else x)"
   ]
  },
  {
   "cell_type": "markdown",
   "metadata": {},
   "source": [
    "### Q6 : If you want to convert data type of `Installs` columns into integer, you can run the following code. "
   ]
  },
  {
   "cell_type": "code",
   "execution_count": 10,
   "metadata": {},
   "outputs": [],
   "source": [
    "google_play_apps['Installs'] = google_play_apps['Installs'].astype(int)"
   ]
  },
  {
   "cell_type": "markdown",
   "metadata": {},
   "source": [
    "### Q7 : Match `App` and `Category` based on provided dataset! "
   ]
  },
  {
   "cell_type": "code",
   "execution_count": 11,
   "metadata": {},
   "outputs": [
    {
     "data": {
      "text/html": [
       "<div>\n",
       "<style scoped>\n",
       "    .dataframe tbody tr th:only-of-type {\n",
       "        vertical-align: middle;\n",
       "    }\n",
       "\n",
       "    .dataframe tbody tr th {\n",
       "        vertical-align: top;\n",
       "    }\n",
       "\n",
       "    .dataframe thead th {\n",
       "        text-align: right;\n",
       "    }\n",
       "</style>\n",
       "<table border=\"1\" class=\"dataframe\">\n",
       "  <thead>\n",
       "    <tr style=\"text-align: right;\">\n",
       "      <th></th>\n",
       "      <th>App</th>\n",
       "      <th>Category</th>\n",
       "    </tr>\n",
       "  </thead>\n",
       "  <tbody>\n",
       "    <tr>\n",
       "      <td>0</td>\n",
       "      <td>Subway Surfers</td>\n",
       "      <td>GAME</td>\n",
       "    </tr>\n",
       "    <tr>\n",
       "      <td>1</td>\n",
       "      <td>Dropbox</td>\n",
       "      <td>PRODUCTIVITY</td>\n",
       "    </tr>\n",
       "    <tr>\n",
       "      <td>2</td>\n",
       "      <td>File Commander - File Manager/Explorer</td>\n",
       "      <td>BUSINESS</td>\n",
       "    </tr>\n",
       "    <tr>\n",
       "      <td>3</td>\n",
       "      <td>WhatsApp Messenger</td>\n",
       "      <td>COMMUNICATION</td>\n",
       "    </tr>\n",
       "    <tr>\n",
       "      <td>4</td>\n",
       "      <td>Flipboard: News For Our Time</td>\n",
       "      <td>NEWS_AND_MAGAZINES</td>\n",
       "    </tr>\n",
       "    <tr>\n",
       "      <td>5</td>\n",
       "      <td>Pinterest</td>\n",
       "      <td>SOCIAL</td>\n",
       "    </tr>\n",
       "    <tr>\n",
       "      <td>6</td>\n",
       "      <td>FIFA Soccer</td>\n",
       "      <td>SPORTS</td>\n",
       "    </tr>\n",
       "    <tr>\n",
       "      <td>7</td>\n",
       "      <td>DU Battery Saver - Battery Charger &amp; Battery Life</td>\n",
       "      <td>TOOLS</td>\n",
       "    </tr>\n",
       "  </tbody>\n",
       "</table>\n",
       "</div>"
      ],
      "text/plain": [
       "                                                 App            Category\n",
       "0                                     Subway Surfers                GAME\n",
       "1                                            Dropbox        PRODUCTIVITY\n",
       "2             File Commander - File Manager/Explorer            BUSINESS\n",
       "3                                 WhatsApp Messenger       COMMUNICATION\n",
       "4                       Flipboard: News For Our Time  NEWS_AND_MAGAZINES\n",
       "5                                          Pinterest              SOCIAL\n",
       "6                                        FIFA Soccer              SPORTS\n",
       "7  DU Battery Saver - Battery Charger & Battery Life               TOOLS"
      ]
     },
     "execution_count": 11,
     "metadata": {},
     "output_type": "execute_result"
    }
   ],
   "source": [
    "# make a list of App that will be matched\n",
    "apps_to_be_matched = [\"Subway Surfers\", \"Dropbox\", \"File Commander - File Manager/Explorer\", \"WhatsApp Messenger\", \"Flipboard: News For Our Time\", \n",
    "                      \"Pinterest\", \"FIFA Soccer\", \"DU Battery Saver - Battery Charger & Battery Life\"]\n",
    "\n",
    "# filter google_play_apps using row where Apps in app_to_be_matched and select only App and Category columns only\n",
    "\n",
    "apps_category_df = google_play_apps.loc[google_play_apps['App'].isin(apps_to_be_matched), ['App', 'Category']]\n",
    "\n",
    "\n",
    "# sort according to Q7 (app_to_be_mathced)\n",
    "apps_category_df['App'] = apps_category_df['App'].astype(\"category\")\n",
    "apps_category_df['App'].cat.set_categories(apps_to_be_matched, inplace=True)\n",
    "\n",
    "apps_category_df.sort_values(['App']).reset_index(drop=True)\n"
   ]
  },
  {
   "cell_type": "markdown",
   "metadata": {},
   "source": [
    "### Q8 : The following applications were installed by more than 1 billion users, EXCEPT "
   ]
  },
  {
   "cell_type": "code",
   "execution_count": 12,
   "metadata": {},
   "outputs": [
    {
     "data": {
      "text/html": [
       "<div>\n",
       "<style scoped>\n",
       "    .dataframe tbody tr th:only-of-type {\n",
       "        vertical-align: middle;\n",
       "    }\n",
       "\n",
       "    .dataframe tbody tr th {\n",
       "        vertical-align: top;\n",
       "    }\n",
       "\n",
       "    .dataframe thead th {\n",
       "        text-align: right;\n",
       "    }\n",
       "</style>\n",
       "<table border=\"1\" class=\"dataframe\">\n",
       "  <thead>\n",
       "    <tr style=\"text-align: right;\">\n",
       "      <th></th>\n",
       "      <th>App</th>\n",
       "      <th>Installs</th>\n",
       "      <th>App_edit</th>\n",
       "      <th>is_1bio</th>\n",
       "    </tr>\n",
       "  </thead>\n",
       "  <tbody>\n",
       "    <tr>\n",
       "      <td>0</td>\n",
       "      <td>Skype for Business for Android</td>\n",
       "      <td>10000000</td>\n",
       "      <td>Skype</td>\n",
       "      <td>False</td>\n",
       "    </tr>\n",
       "    <tr>\n",
       "      <td>1</td>\n",
       "      <td>Skype Lite - Free Video Call &amp; Chat</td>\n",
       "      <td>5000000</td>\n",
       "      <td>Skype</td>\n",
       "      <td>False</td>\n",
       "    </tr>\n",
       "    <tr>\n",
       "      <td>2</td>\n",
       "      <td>Skype - free IM &amp; video calls</td>\n",
       "      <td>1000000000</td>\n",
       "      <td>Skype</td>\n",
       "      <td>True</td>\n",
       "    </tr>\n",
       "    <tr>\n",
       "      <td>3</td>\n",
       "      <td>Google Duo - High Quality Video Calls</td>\n",
       "      <td>500000000</td>\n",
       "      <td>Google Duo - High Quality Video Calls</td>\n",
       "      <td>False</td>\n",
       "    </tr>\n",
       "    <tr>\n",
       "      <td>4</td>\n",
       "      <td>Facebook</td>\n",
       "      <td>1000000000</td>\n",
       "      <td>Facebook</td>\n",
       "      <td>True</td>\n",
       "    </tr>\n",
       "    <tr>\n",
       "      <td>5</td>\n",
       "      <td>WhatsApp Messenger</td>\n",
       "      <td>1000000000</td>\n",
       "      <td>WhatsApp Messenger</td>\n",
       "      <td>True</td>\n",
       "    </tr>\n",
       "  </tbody>\n",
       "</table>\n",
       "</div>"
      ],
      "text/plain": [
       "                                     App    Installs  \\\n",
       "0         Skype for Business for Android    10000000   \n",
       "1    Skype Lite - Free Video Call & Chat     5000000   \n",
       "2          Skype - free IM & video calls  1000000000   \n",
       "3  Google Duo - High Quality Video Calls   500000000   \n",
       "4                               Facebook  1000000000   \n",
       "5                     WhatsApp Messenger  1000000000   \n",
       "\n",
       "                                App_edit  is_1bio  \n",
       "0                                  Skype    False  \n",
       "1                                  Skype    False  \n",
       "2                                  Skype     True  \n",
       "3  Google Duo - High Quality Video Calls    False  \n",
       "4                               Facebook     True  \n",
       "5                     WhatsApp Messenger     True  "
      ]
     },
     "execution_count": 12,
     "metadata": {},
     "output_type": "execute_result"
    }
   ],
   "source": [
    "# is app 1 billion users\n",
    "apps_is_1bio = [\"Skype\", \"Google Duo - High Quality Video Calls\", \"Facebook\", \"WhatsApp Messenger\"]\n",
    "\n",
    "# filter google_play_apps using row where Apps in apps_is_1bio and select only App and Installs columns only\n",
    "# Note we use contains  because there are different version of 'Skype'\n",
    "apps_is_1bio_df = google_play_apps.loc[google_play_apps['App'].str.contains('Skype') | google_play_apps['App'].isin(apps_is_1bio),\n",
    "                                       ['App', 'Installs']]\n",
    "\n",
    "apps_is_1bio_df[\"App_edit\"] = np.where(apps_is_1bio_df['App'].str.contains('Skype'), 'Skype', apps_is_1bio_df['App'])\n",
    "\n",
    "# is 1 bio columns\n",
    "apps_is_1bio_df['is_1bio'] = apps_is_1bio_df['Installs'] >= 1000000000\n",
    "\n",
    "# sort according to Q7 (app_to_be_mathced)\n",
    "apps_is_1bio_df['App_edit'] = apps_is_1bio_df['App_edit'].astype(\"category\")\n",
    "apps_is_1bio_df['App_edit'].cat.set_categories(apps_is_1bio, inplace=True)\n",
    "apps_is_1bio_df.sort_values(['App_edit']).reset_index(drop=True)\n"
   ]
  },
  {
   "cell_type": "markdown",
   "metadata": {},
   "source": [
    "Here we assume number of installs correspond to user base. In result above, one version of `Skype` is over 1 Billion installs. Thus we can deduce, that only `Google Duo - High Quality Video Calls` not reach the 1 Billion installs "
   ]
  },
  {
   "cell_type": "markdown",
   "metadata": {},
   "source": [
    "### Q9 : Arrange top `COMMUNICATION` category apps from the highest number of reviews to the lowest! "
   ]
  },
  {
   "cell_type": "code",
   "execution_count": 13,
   "metadata": {},
   "outputs": [
    {
     "data": {
      "text/html": [
       "<div>\n",
       "<style scoped>\n",
       "    .dataframe tbody tr th:only-of-type {\n",
       "        vertical-align: middle;\n",
       "    }\n",
       "\n",
       "    .dataframe tbody tr th {\n",
       "        vertical-align: top;\n",
       "    }\n",
       "\n",
       "    .dataframe thead th {\n",
       "        text-align: right;\n",
       "    }\n",
       "</style>\n",
       "<table border=\"1\" class=\"dataframe\">\n",
       "  <thead>\n",
       "    <tr style=\"text-align: right;\">\n",
       "      <th></th>\n",
       "      <th>Category</th>\n",
       "      <th>App</th>\n",
       "      <th>Reviews</th>\n",
       "    </tr>\n",
       "  </thead>\n",
       "  <tbody>\n",
       "    <tr>\n",
       "      <td>0</td>\n",
       "      <td>COMMUNICATION</td>\n",
       "      <td>WhatsApp Messenger</td>\n",
       "      <td>69119316</td>\n",
       "    </tr>\n",
       "    <tr>\n",
       "      <td>1</td>\n",
       "      <td>COMMUNICATION</td>\n",
       "      <td>Messenger – Text and Video Chat for Free</td>\n",
       "      <td>56642847</td>\n",
       "    </tr>\n",
       "    <tr>\n",
       "      <td>2</td>\n",
       "      <td>COMMUNICATION</td>\n",
       "      <td>UC Browser - Fast Download Private &amp; Secure</td>\n",
       "      <td>17712922</td>\n",
       "    </tr>\n",
       "    <tr>\n",
       "      <td>3</td>\n",
       "      <td>COMMUNICATION</td>\n",
       "      <td>BBM - Free Calls &amp; Messages</td>\n",
       "      <td>12842860</td>\n",
       "    </tr>\n",
       "    <tr>\n",
       "      <td>4</td>\n",
       "      <td>COMMUNICATION</td>\n",
       "      <td>Viber Messenger</td>\n",
       "      <td>11334799</td>\n",
       "    </tr>\n",
       "    <tr>\n",
       "      <td>5</td>\n",
       "      <td>COMMUNICATION</td>\n",
       "      <td>LINE: Free Calls &amp; Messages</td>\n",
       "      <td>10790289</td>\n",
       "    </tr>\n",
       "    <tr>\n",
       "      <td>6</td>\n",
       "      <td>COMMUNICATION</td>\n",
       "      <td>Skype - free IM &amp; video calls</td>\n",
       "      <td>10484169</td>\n",
       "    </tr>\n",
       "    <tr>\n",
       "      <td>7</td>\n",
       "      <td>COMMUNICATION</td>\n",
       "      <td>Google Chrome: Fast &amp; Secure</td>\n",
       "      <td>9642995</td>\n",
       "    </tr>\n",
       "    <tr>\n",
       "      <td>8</td>\n",
       "      <td>COMMUNICATION</td>\n",
       "      <td>Truecaller: Caller ID, SMS spam blocking &amp; Dialer</td>\n",
       "      <td>7820209</td>\n",
       "    </tr>\n",
       "    <tr>\n",
       "      <td>9</td>\n",
       "      <td>COMMUNICATION</td>\n",
       "      <td>WeChat</td>\n",
       "      <td>5387333</td>\n",
       "    </tr>\n",
       "  </tbody>\n",
       "</table>\n",
       "</div>"
      ],
      "text/plain": [
       "        Category                                                App   Reviews\n",
       "0  COMMUNICATION                                 WhatsApp Messenger  69119316\n",
       "1  COMMUNICATION           Messenger – Text and Video Chat for Free  56642847\n",
       "2  COMMUNICATION        UC Browser - Fast Download Private & Secure  17712922\n",
       "3  COMMUNICATION                        BBM - Free Calls & Messages  12842860\n",
       "4  COMMUNICATION                                    Viber Messenger  11334799\n",
       "5  COMMUNICATION                        LINE: Free Calls & Messages  10790289\n",
       "6  COMMUNICATION                      Skype - free IM & video calls  10484169\n",
       "7  COMMUNICATION                       Google Chrome: Fast & Secure   9642995\n",
       "8  COMMUNICATION  Truecaller: Caller ID, SMS spam blocking & Dialer   7820209\n",
       "9  COMMUNICATION                                             WeChat   5387333"
      ]
     },
     "execution_count": 13,
     "metadata": {},
     "output_type": "execute_result"
    }
   ],
   "source": [
    "# filter `COMMUNICATION` categoty apps and select `App`, `Category` and `Reviews`\n",
    "communication_apps_df = google_play_apps.loc[google_play_apps['Category'] == \"COMMUNICATION\", ['Category', 'App', 'Reviews']]\n",
    "\n",
    "# cast string to integer\n",
    "communication_apps_df['Reviews'] = communication_apps_df['Reviews'].astype(int)\n",
    "\n",
    "# sort descending\n",
    "communication_apps_df.sort_values(['Reviews'], ascending=False).reset_index(drop=True).head(10)\n"
   ]
  },
  {
   "cell_type": "markdown",
   "metadata": {},
   "source": [
    "### Q10 : Arrange top 3 `GAME` category apps based on number of `Installs` and `Rating`!"
   ]
  },
  {
   "cell_type": "code",
   "execution_count": 14,
   "metadata": {},
   "outputs": [
    {
     "data": {
      "text/html": [
       "<div>\n",
       "<style scoped>\n",
       "    .dataframe tbody tr th:only-of-type {\n",
       "        vertical-align: middle;\n",
       "    }\n",
       "\n",
       "    .dataframe tbody tr th {\n",
       "        vertical-align: top;\n",
       "    }\n",
       "\n",
       "    .dataframe thead th {\n",
       "        text-align: right;\n",
       "    }\n",
       "</style>\n",
       "<table border=\"1\" class=\"dataframe\">\n",
       "  <thead>\n",
       "    <tr style=\"text-align: right;\">\n",
       "      <th></th>\n",
       "      <th>Category</th>\n",
       "      <th>App</th>\n",
       "      <th>Installs</th>\n",
       "      <th>Rating</th>\n",
       "    </tr>\n",
       "  </thead>\n",
       "  <tbody>\n",
       "    <tr>\n",
       "      <td>0</td>\n",
       "      <td>GAME</td>\n",
       "      <td>Subway Surfers</td>\n",
       "      <td>1000000000</td>\n",
       "      <td>4.5</td>\n",
       "    </tr>\n",
       "    <tr>\n",
       "      <td>1</td>\n",
       "      <td>GAME</td>\n",
       "      <td>My Talking Tom</td>\n",
       "      <td>500000000</td>\n",
       "      <td>4.5</td>\n",
       "    </tr>\n",
       "    <tr>\n",
       "      <td>2</td>\n",
       "      <td>GAME</td>\n",
       "      <td>Candy Crush Saga</td>\n",
       "      <td>500000000</td>\n",
       "      <td>4.4</td>\n",
       "    </tr>\n",
       "  </tbody>\n",
       "</table>\n",
       "</div>"
      ],
      "text/plain": [
       "  Category               App    Installs  Rating\n",
       "0     GAME    Subway Surfers  1000000000     4.5\n",
       "1     GAME    My Talking Tom   500000000     4.5\n",
       "2     GAME  Candy Crush Saga   500000000     4.4"
      ]
     },
     "execution_count": 14,
     "metadata": {},
     "output_type": "execute_result"
    }
   ],
   "source": [
    "# filter `GAME` categoty apps and select `App`, `Category`, `Installs` and `Rating`\n",
    "game_apps_df = google_play_apps.loc[google_play_apps['Category'] == \"GAME\", \n",
    "                                             ['Category', 'App', 'Installs', \"Rating\"]]\n",
    "\n",
    "# sort descending\n",
    "game_apps_df.sort_values(['Installs', 'Rating'], ascending=False).reset_index(drop=True).head(3)"
   ]
  }
 ],
 "metadata": {
  "kernelspec": {
   "display_name": "Python 3",
   "language": "python",
   "name": "python3"
  },
  "language_info": {
   "codemirror_mode": {
    "name": "ipython",
    "version": 3
   },
   "file_extension": ".py",
   "mimetype": "text/x-python",
   "name": "python",
   "nbconvert_exporter": "python",
   "pygments_lexer": "ipython3",
   "version": "3.7.0"
  }
 },
 "nbformat": 4,
 "nbformat_minor": 4
}
